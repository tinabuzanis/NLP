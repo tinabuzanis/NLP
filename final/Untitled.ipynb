{
 "cells": [
  {
   "cell_type": "markdown",
   "id": "bb29d81c-6045-4064-86a6-d5fb5c659d1c",
   "metadata": {},
   "source": [
    "## Model Options:\n",
    "- BERT / BART ? - https://huggingface.co/docs/transformers/model_doc/bart\n",
    "- T5 / MT5\n",
    "- ByT5"
   ]
  },
  {
   "cell_type": "code",
   "execution_count": null,
   "id": "522a9027-2492-4f11-916f-67d5fba5f083",
   "metadata": {
    "tags": []
   },
   "outputs": [],
   "source": [
    "# ByT5 - https://huggingface.co/docs/transformers/model_doc/byt5\n",
    "\n",
    "from transformers import T5ForConditionalGeneration, AutoTokenizer\n",
    "import torch\n",
    "\n",
    "model = T5ForConditionalGeneration.from_pretrained(\"google/byt5-small\")\n",
    "tokenizer = AutoTokenizer.from_pretrained(\"google/byt5-small\")\n",
    "\n",
    "model_inputs = tokenizer(\n",
    "    [\"Life is like a box of chocolates.\", \"Today is Monday.\"], padding=\"longest\", return_tensors=\"pt\"\n",
    ")\n",
    "labels = tokenizer(\n",
    "    [\"La vie est comme une boîte de chocolat.\", \"Aujourd'hui c'est lundi.\"], padding=\"longest\", return_tensors=\"pt\"\n",
    ").input_ids\n",
    "\n",
    "loss = model(**model_inputs, labels=labels).loss  # forward pass"
   ]
  },
  {
   "cell_type": "code",
   "execution_count": 1,
   "id": "719f3df7-d713-4c1b-9ce6-7d7f6681e7b7",
   "metadata": {
    "tags": []
   },
   "outputs": [],
   "source": [
    "# T5 - https://huggingface.co/docs/transformers/model_doc/t5\n",
    "\n",
    "from transformers import T5Tokenizer, T5ForConditionalGeneration\n",
    "import torch\n",
    "\n",
    "tokenizer = T5Tokenizer.from_pretrained(\"t5-small\")\n",
    "model = T5ForConditionalGeneration.from_pretrained(\"t5-small\")\n",
    "\n",
    "# the following 2 hyperparameters are task-specific\n",
    "max_source_length = 512\n",
    "max_target_length = 128\n",
    "\n",
    "# Suppose we have the following 2 training examples:\n",
    "input_sequence_1 = \"Welcome to NYC\"\n",
    "output_sequence_1 = \"Bienvenue à NYC\"\n",
    "\n",
    "input_sequence_2 = \"HuggingFace is a company\"\n",
    "output_sequence_2 = \"HuggingFace est une entreprise\"\n",
    "\n",
    "# encode the inputs\n",
    "task_prefix = \"translate English to French: \"\n",
    "input_sequences = [input_sequence_1, input_sequence_2]\n",
    "encoding = tokenizer(\n",
    "    [task_prefix + sequence for sequence in input_sequences],\n",
    "    padding=\"longest\",\n",
    "    max_length=max_source_length,\n",
    "    truncation=True,\n",
    "    return_tensors=\"pt\",\n",
    ")\n",
    "input_ids, attention_mask = encoding.input_ids, encoding.attention_mask\n",
    "\n",
    "# encode the targets\n",
    "target_encoding = tokenizer(\n",
    "    [output_sequence_1, output_sequence_2], padding=\"longest\", max_length=max_target_length, truncation=True\n",
    ")\n",
    "labels = target_encoding.input_ids\n",
    "\n",
    "# replace padding token id's of the labels by -100\n",
    "labels = torch.tensor(labels)\n",
    "labels[labels == tokenizer.pad_token_id] = -100\n",
    "\n",
    "# forward pass\n",
    "loss = model(input_ids=input_ids, attention_mask=attention_mask, labels=labels).loss"
   ]
  },
  {
   "cell_type": "code",
   "execution_count": 35,
   "id": "72bfda46-f7a3-43c3-ba7d-f5228adae507",
   "metadata": {},
   "outputs": [],
   "source": [
    "from transformers import T5Tokenizer, T5ForConditionalGeneration\n",
    "import torch"
   ]
  },
  {
   "cell_type": "code",
   "execution_count": 5,
   "id": "307b36c3-6b94-4e24-b554-4ca81b21499a",
   "metadata": {},
   "outputs": [],
   "source": [
    "import datasets\n",
    "from datasets import load_dataset"
   ]
  },
  {
   "cell_type": "code",
   "execution_count": 81,
   "id": "714ada2d-bfeb-4e4f-9f68-fcda8a3158aa",
   "metadata": {},
   "outputs": [
    {
     "name": "stderr",
     "output_type": "stream",
     "text": [
      "Reusing dataset wmt14 (/home/tina/.cache/huggingface/datasets/wmt14/fr-en/1.0.0/6aa64c5c4f2c1c217718c6d6266aad92d1229e761c57379c53752b8c0e55c93b)\n"
     ]
    },
    {
     "data": {
      "text/plain": [
       "DatasetDict({\n",
       "    train: Dataset({\n",
       "        features: ['translation'],\n",
       "        num_rows: 100\n",
       "    })\n",
       "    test: Dataset({\n",
       "        features: ['translation'],\n",
       "        num_rows: 20\n",
       "    })\n",
       "})"
      ]
     },
     "execution_count": 81,
     "metadata": {},
     "output_type": "execute_result"
    }
   ],
   "source": [
    "# fr_en_raw_dataset = load_dataset(\"wmt14\", 'fr-en') # load fr_en dataset\n",
    "# ru_en_raw_dataset = load_dataset('wmt14', 'ru-en') # load ru_en dataset\n",
    "\n",
    "fren_120 = load_dataset('wmt14', 'fr-en', split='train[:100]+test[:20]')\n",
    "fren_120.train_test_split(test_size=20)"
   ]
  },
  {
   "cell_type": "code",
   "execution_count": null,
   "id": "007d416b-ef51-450b-88a7-521382d6e79b",
   "metadata": {},
   "outputs": [],
   "source": [
    "encoded_dataset = dataset.map(lambda examples: tokenizer(task_prefix +examples, padding='longest', max_length=max_source_length, truncation=True, return_tensors='pt', batched=True)"
   ]
  },
  {
   "cell_type": "code",
   "execution_count": 34,
   "id": "95d3d314-853c-4370-96f8-1f53bbe88245",
   "metadata": {},
   "outputs": [],
   "source": [
    "a = top_100_fr_en \n",
    "\n",
    "fr_examples = [b['fr'] for b in a]\n",
    "\n",
    "fr_examples = [ex.split() for ex in fr_examples]\n",
    "\n",
    "max_src_len = 0\n",
    "\n",
    "for ex in fr_examples:\n",
    "    max_src_len = max(max_src_len, len(ex))\n",
    "    \n",
    "max_src_len"
   ]
  },
  {
   "cell_type": "code",
   "execution_count": 36,
   "id": "6e0ea89d-bdda-42bc-a8ec-9b484d3ba1f5",
   "metadata": {},
   "outputs": [
    {
     "data": {
      "text/plain": [
       "104"
      ]
     },
     "execution_count": 36,
     "metadata": {},
     "output_type": "execute_result"
    }
   ],
   "source": [
    "en_examples = [b['en'] for b in a]\n",
    "en_examples = [ex.split() for ex in en_examples]\n",
    "\n",
    "max_tgt_len = 0\n",
    "\n",
    "for ex in fr_examples:\n",
    "    max_tgt_len = max(max_tgt_len, len(ex))\n",
    "    \n",
    "max_tgt_len\n"
   ]
  },
  {
   "cell_type": "code",
   "execution_count": 41,
   "id": "62a0efff-e27a-41ca-ad39-6fde8a592fce",
   "metadata": {},
   "outputs": [],
   "source": [
    "en_examples = [b['en'] for b in a]\n",
    "fr_examples = [b['fr'] for b in a]"
   ]
  },
  {
   "cell_type": "code",
   "execution_count": 50,
   "id": "bb42d97e-38b6-4633-adc7-5558b15392a4",
   "metadata": {},
   "outputs": [],
   "source": [
    "_train = a[:80]\n",
    "_test = a[80:100]"
   ]
  },
  {
   "cell_type": "code",
   "execution_count": 85,
   "id": "e73a1fc9-e323-4f62-b7ff-2b39010d1f71",
   "metadata": {},
   "outputs": [
    {
     "data": {
      "application/vnd.jupyter.widget-view+json": {
       "model_id": "017ba702c1d142b995b525e37be9b3ef",
       "version_major": 2,
       "version_minor": 0
      },
      "text/plain": [
       "0ex [00:00, ?ex/s]"
      ]
     },
     "metadata": {},
     "output_type": "display_data"
    },
    {
     "ename": "ValueError",
     "evalue": "text input must of type `str` (single example), `List[str]` (batch or single pretokenized example) or `List[List[str]]` (batch of pretokenized examples).",
     "output_type": "error",
     "traceback": [
      "\u001b[0;31m---------------------------------------------------------------------------\u001b[0m",
      "\u001b[0;31mValueError\u001b[0m                                Traceback (most recent call last)",
      "\u001b[0;32m/tmp/ipykernel_364077/3029726851.py\u001b[0m in \u001b[0;36m<module>\u001b[0;34m\u001b[0m\n\u001b[1;32m     16\u001b[0m     \u001b[0;31m#return_tensors='pt'\u001b[0m\u001b[0;34m\u001b[0m\u001b[0;34m\u001b[0m\u001b[0;34m\u001b[0m\u001b[0m\n\u001b[1;32m     17\u001b[0m \u001b[0;31m#)\u001b[0m\u001b[0;34m\u001b[0m\u001b[0;34m\u001b[0m\u001b[0;34m\u001b[0m\u001b[0m\n\u001b[0;32m---> 18\u001b[0;31m \u001b[0mencoding\u001b[0m \u001b[0;34m=\u001b[0m \u001b[0mfren_120\u001b[0m\u001b[0;34m.\u001b[0m\u001b[0mmap\u001b[0m\u001b[0;34m(\u001b[0m\u001b[0;32mlambda\u001b[0m \u001b[0mexamples\u001b[0m\u001b[0;34m:\u001b[0m \u001b[0mtokenizer\u001b[0m\u001b[0;34m(\u001b[0m\u001b[0mexamples\u001b[0m\u001b[0;34m,\u001b[0m \u001b[0mpadding\u001b[0m\u001b[0;34m=\u001b[0m\u001b[0;34m'longest'\u001b[0m\u001b[0;34m,\u001b[0m \u001b[0mmax_length\u001b[0m\u001b[0;34m=\u001b[0m\u001b[0mmax_source_length\u001b[0m\u001b[0;34m,\u001b[0m \u001b[0mtruncation\u001b[0m\u001b[0;34m=\u001b[0m\u001b[0;32mTrue\u001b[0m\u001b[0;34m,\u001b[0m \u001b[0mreturn_tensors\u001b[0m\u001b[0;34m=\u001b[0m\u001b[0;34m'pt'\u001b[0m\u001b[0;34m,\u001b[0m \u001b[0mbatched\u001b[0m\u001b[0;34m=\u001b[0m\u001b[0;32mTrue\u001b[0m\u001b[0;34m)\u001b[0m\u001b[0;34m)\u001b[0m\u001b[0;34m\u001b[0m\u001b[0;34m\u001b[0m\u001b[0m\n\u001b[0m\u001b[1;32m     19\u001b[0m \u001b[0;34m\u001b[0m\u001b[0m\n\u001b[1;32m     20\u001b[0m \u001b[0mprint\u001b[0m\u001b[0;34m(\u001b[0m\u001b[0mlen\u001b[0m\u001b[0;34m(\u001b[0m\u001b[0mencoding\u001b[0m\u001b[0;34m)\u001b[0m\u001b[0;34m)\u001b[0m\u001b[0;34m\u001b[0m\u001b[0;34m\u001b[0m\u001b[0m\n",
      "\u001b[0;32m~/miniconda3/envs/main/lib/python3.8/site-packages/datasets/arrow_dataset.py\u001b[0m in \u001b[0;36mmap\u001b[0;34m(self, function, with_indices, with_rank, input_columns, batched, batch_size, drop_last_batch, remove_columns, keep_in_memory, load_from_cache_file, cache_file_name, writer_batch_size, features, disable_nullable, fn_kwargs, num_proc, suffix_template, new_fingerprint, desc)\u001b[0m\n\u001b[1;32m   2100\u001b[0m \u001b[0;34m\u001b[0m\u001b[0m\n\u001b[1;32m   2101\u001b[0m         \u001b[0;32mif\u001b[0m \u001b[0mnum_proc\u001b[0m \u001b[0;32mis\u001b[0m \u001b[0;32mNone\u001b[0m \u001b[0;32mor\u001b[0m \u001b[0mnum_proc\u001b[0m \u001b[0;34m==\u001b[0m \u001b[0;36m1\u001b[0m\u001b[0;34m:\u001b[0m\u001b[0;34m\u001b[0m\u001b[0;34m\u001b[0m\u001b[0m\n\u001b[0;32m-> 2102\u001b[0;31m             return self._map_single(\n\u001b[0m\u001b[1;32m   2103\u001b[0m                 \u001b[0mfunction\u001b[0m\u001b[0;34m=\u001b[0m\u001b[0mfunction\u001b[0m\u001b[0;34m,\u001b[0m\u001b[0;34m\u001b[0m\u001b[0;34m\u001b[0m\u001b[0m\n\u001b[1;32m   2104\u001b[0m                 \u001b[0mwith_indices\u001b[0m\u001b[0;34m=\u001b[0m\u001b[0mwith_indices\u001b[0m\u001b[0;34m,\u001b[0m\u001b[0;34m\u001b[0m\u001b[0;34m\u001b[0m\u001b[0m\n",
      "\u001b[0;32m~/miniconda3/envs/main/lib/python3.8/site-packages/datasets/arrow_dataset.py\u001b[0m in \u001b[0;36mwrapper\u001b[0;34m(*args, **kwargs)\u001b[0m\n\u001b[1;32m    516\u001b[0m             \u001b[0mself\u001b[0m\u001b[0;34m:\u001b[0m \u001b[0;34m\"Dataset\"\u001b[0m \u001b[0;34m=\u001b[0m \u001b[0mkwargs\u001b[0m\u001b[0;34m.\u001b[0m\u001b[0mpop\u001b[0m\u001b[0;34m(\u001b[0m\u001b[0;34m\"self\"\u001b[0m\u001b[0;34m)\u001b[0m\u001b[0;34m\u001b[0m\u001b[0;34m\u001b[0m\u001b[0m\n\u001b[1;32m    517\u001b[0m         \u001b[0;31m# apply actual function\u001b[0m\u001b[0;34m\u001b[0m\u001b[0;34m\u001b[0m\u001b[0;34m\u001b[0m\u001b[0m\n\u001b[0;32m--> 518\u001b[0;31m         \u001b[0mout\u001b[0m\u001b[0;34m:\u001b[0m \u001b[0mUnion\u001b[0m\u001b[0;34m[\u001b[0m\u001b[0;34m\"Dataset\"\u001b[0m\u001b[0;34m,\u001b[0m \u001b[0;34m\"DatasetDict\"\u001b[0m\u001b[0;34m]\u001b[0m \u001b[0;34m=\u001b[0m \u001b[0mfunc\u001b[0m\u001b[0;34m(\u001b[0m\u001b[0mself\u001b[0m\u001b[0;34m,\u001b[0m \u001b[0;34m*\u001b[0m\u001b[0margs\u001b[0m\u001b[0;34m,\u001b[0m \u001b[0;34m**\u001b[0m\u001b[0mkwargs\u001b[0m\u001b[0;34m)\u001b[0m\u001b[0;34m\u001b[0m\u001b[0;34m\u001b[0m\u001b[0m\n\u001b[0m\u001b[1;32m    519\u001b[0m         \u001b[0mdatasets\u001b[0m\u001b[0;34m:\u001b[0m \u001b[0mList\u001b[0m\u001b[0;34m[\u001b[0m\u001b[0;34m\"Dataset\"\u001b[0m\u001b[0;34m]\u001b[0m \u001b[0;34m=\u001b[0m \u001b[0mlist\u001b[0m\u001b[0;34m(\u001b[0m\u001b[0mout\u001b[0m\u001b[0;34m.\u001b[0m\u001b[0mvalues\u001b[0m\u001b[0;34m(\u001b[0m\u001b[0;34m)\u001b[0m\u001b[0;34m)\u001b[0m \u001b[0;32mif\u001b[0m \u001b[0misinstance\u001b[0m\u001b[0;34m(\u001b[0m\u001b[0mout\u001b[0m\u001b[0;34m,\u001b[0m \u001b[0mdict\u001b[0m\u001b[0;34m)\u001b[0m \u001b[0;32melse\u001b[0m \u001b[0;34m[\u001b[0m\u001b[0mout\u001b[0m\u001b[0;34m]\u001b[0m\u001b[0;34m\u001b[0m\u001b[0;34m\u001b[0m\u001b[0m\n\u001b[1;32m    520\u001b[0m         \u001b[0;32mfor\u001b[0m \u001b[0mdataset\u001b[0m \u001b[0;32min\u001b[0m \u001b[0mdatasets\u001b[0m\u001b[0;34m:\u001b[0m\u001b[0;34m\u001b[0m\u001b[0;34m\u001b[0m\u001b[0m\n",
      "\u001b[0;32m~/miniconda3/envs/main/lib/python3.8/site-packages/datasets/arrow_dataset.py\u001b[0m in \u001b[0;36mwrapper\u001b[0;34m(*args, **kwargs)\u001b[0m\n\u001b[1;32m    483\u001b[0m         }\n\u001b[1;32m    484\u001b[0m         \u001b[0;31m# apply actual function\u001b[0m\u001b[0;34m\u001b[0m\u001b[0;34m\u001b[0m\u001b[0;34m\u001b[0m\u001b[0m\n\u001b[0;32m--> 485\u001b[0;31m         \u001b[0mout\u001b[0m\u001b[0;34m:\u001b[0m \u001b[0mUnion\u001b[0m\u001b[0;34m[\u001b[0m\u001b[0;34m\"Dataset\"\u001b[0m\u001b[0;34m,\u001b[0m \u001b[0;34m\"DatasetDict\"\u001b[0m\u001b[0;34m]\u001b[0m \u001b[0;34m=\u001b[0m \u001b[0mfunc\u001b[0m\u001b[0;34m(\u001b[0m\u001b[0mself\u001b[0m\u001b[0;34m,\u001b[0m \u001b[0;34m*\u001b[0m\u001b[0margs\u001b[0m\u001b[0;34m,\u001b[0m \u001b[0;34m**\u001b[0m\u001b[0mkwargs\u001b[0m\u001b[0;34m)\u001b[0m\u001b[0;34m\u001b[0m\u001b[0;34m\u001b[0m\u001b[0m\n\u001b[0m\u001b[1;32m    486\u001b[0m         \u001b[0mdatasets\u001b[0m\u001b[0;34m:\u001b[0m \u001b[0mList\u001b[0m\u001b[0;34m[\u001b[0m\u001b[0;34m\"Dataset\"\u001b[0m\u001b[0;34m]\u001b[0m \u001b[0;34m=\u001b[0m \u001b[0mlist\u001b[0m\u001b[0;34m(\u001b[0m\u001b[0mout\u001b[0m\u001b[0;34m.\u001b[0m\u001b[0mvalues\u001b[0m\u001b[0;34m(\u001b[0m\u001b[0;34m)\u001b[0m\u001b[0;34m)\u001b[0m \u001b[0;32mif\u001b[0m \u001b[0misinstance\u001b[0m\u001b[0;34m(\u001b[0m\u001b[0mout\u001b[0m\u001b[0;34m,\u001b[0m \u001b[0mdict\u001b[0m\u001b[0;34m)\u001b[0m \u001b[0;32melse\u001b[0m \u001b[0;34m[\u001b[0m\u001b[0mout\u001b[0m\u001b[0;34m]\u001b[0m\u001b[0;34m\u001b[0m\u001b[0;34m\u001b[0m\u001b[0m\n\u001b[1;32m    487\u001b[0m         \u001b[0;31m# re-apply format to the output\u001b[0m\u001b[0;34m\u001b[0m\u001b[0;34m\u001b[0m\u001b[0;34m\u001b[0m\u001b[0m\n",
      "\u001b[0;32m~/miniconda3/envs/main/lib/python3.8/site-packages/datasets/fingerprint.py\u001b[0m in \u001b[0;36mwrapper\u001b[0;34m(*args, **kwargs)\u001b[0m\n\u001b[1;32m    411\u001b[0m             \u001b[0;31m# Call actual function\u001b[0m\u001b[0;34m\u001b[0m\u001b[0;34m\u001b[0m\u001b[0;34m\u001b[0m\u001b[0m\n\u001b[1;32m    412\u001b[0m \u001b[0;34m\u001b[0m\u001b[0m\n\u001b[0;32m--> 413\u001b[0;31m             \u001b[0mout\u001b[0m \u001b[0;34m=\u001b[0m \u001b[0mfunc\u001b[0m\u001b[0;34m(\u001b[0m\u001b[0mself\u001b[0m\u001b[0;34m,\u001b[0m \u001b[0;34m*\u001b[0m\u001b[0margs\u001b[0m\u001b[0;34m,\u001b[0m \u001b[0;34m**\u001b[0m\u001b[0mkwargs\u001b[0m\u001b[0;34m)\u001b[0m\u001b[0;34m\u001b[0m\u001b[0;34m\u001b[0m\u001b[0m\n\u001b[0m\u001b[1;32m    414\u001b[0m \u001b[0;34m\u001b[0m\u001b[0m\n\u001b[1;32m    415\u001b[0m             \u001b[0;31m# Update fingerprint of in-place transforms + update in-place history of transforms\u001b[0m\u001b[0;34m\u001b[0m\u001b[0;34m\u001b[0m\u001b[0;34m\u001b[0m\u001b[0m\n",
      "\u001b[0;32m~/miniconda3/envs/main/lib/python3.8/site-packages/datasets/arrow_dataset.py\u001b[0m in \u001b[0;36m_map_single\u001b[0;34m(self, function, with_indices, with_rank, input_columns, batched, batch_size, drop_last_batch, remove_columns, keep_in_memory, load_from_cache_file, cache_file_name, writer_batch_size, features, disable_nullable, fn_kwargs, new_fingerprint, rank, offset, disable_tqdm, desc, cache_only)\u001b[0m\n\u001b[1;32m   2458\u001b[0m                 \u001b[0;32mif\u001b[0m \u001b[0;32mnot\u001b[0m \u001b[0mbatched\u001b[0m\u001b[0;34m:\u001b[0m\u001b[0;34m\u001b[0m\u001b[0;34m\u001b[0m\u001b[0m\n\u001b[1;32m   2459\u001b[0m                     \u001b[0;32mfor\u001b[0m \u001b[0mi\u001b[0m\u001b[0;34m,\u001b[0m \u001b[0mexample\u001b[0m \u001b[0;32min\u001b[0m \u001b[0menumerate\u001b[0m\u001b[0;34m(\u001b[0m\u001b[0mpbar\u001b[0m\u001b[0;34m)\u001b[0m\u001b[0;34m:\u001b[0m\u001b[0;34m\u001b[0m\u001b[0;34m\u001b[0m\u001b[0m\n\u001b[0;32m-> 2460\u001b[0;31m                         \u001b[0mexample\u001b[0m \u001b[0;34m=\u001b[0m \u001b[0mapply_function_on_filtered_inputs\u001b[0m\u001b[0;34m(\u001b[0m\u001b[0mexample\u001b[0m\u001b[0;34m,\u001b[0m \u001b[0mi\u001b[0m\u001b[0;34m,\u001b[0m \u001b[0moffset\u001b[0m\u001b[0;34m=\u001b[0m\u001b[0moffset\u001b[0m\u001b[0;34m)\u001b[0m\u001b[0;34m\u001b[0m\u001b[0;34m\u001b[0m\u001b[0m\n\u001b[0m\u001b[1;32m   2461\u001b[0m                         \u001b[0;32mif\u001b[0m \u001b[0mupdate_data\u001b[0m\u001b[0;34m:\u001b[0m\u001b[0;34m\u001b[0m\u001b[0;34m\u001b[0m\u001b[0m\n\u001b[1;32m   2462\u001b[0m                             \u001b[0;32mif\u001b[0m \u001b[0mi\u001b[0m \u001b[0;34m==\u001b[0m \u001b[0;36m0\u001b[0m\u001b[0;34m:\u001b[0m\u001b[0;34m\u001b[0m\u001b[0;34m\u001b[0m\u001b[0m\n",
      "\u001b[0;32m~/miniconda3/envs/main/lib/python3.8/site-packages/datasets/arrow_dataset.py\u001b[0m in \u001b[0;36mapply_function_on_filtered_inputs\u001b[0;34m(inputs, indices, check_same_num_examples, offset)\u001b[0m\n\u001b[1;32m   2365\u001b[0m             \u001b[0;32mif\u001b[0m \u001b[0mwith_rank\u001b[0m\u001b[0;34m:\u001b[0m\u001b[0;34m\u001b[0m\u001b[0;34m\u001b[0m\u001b[0m\n\u001b[1;32m   2366\u001b[0m                 \u001b[0madditional_args\u001b[0m \u001b[0;34m+=\u001b[0m \u001b[0;34m(\u001b[0m\u001b[0mrank\u001b[0m\u001b[0;34m,\u001b[0m\u001b[0;34m)\u001b[0m\u001b[0;34m\u001b[0m\u001b[0;34m\u001b[0m\u001b[0m\n\u001b[0;32m-> 2367\u001b[0;31m             \u001b[0mprocessed_inputs\u001b[0m \u001b[0;34m=\u001b[0m \u001b[0mfunction\u001b[0m\u001b[0;34m(\u001b[0m\u001b[0;34m*\u001b[0m\u001b[0mfn_args\u001b[0m\u001b[0;34m,\u001b[0m \u001b[0;34m*\u001b[0m\u001b[0madditional_args\u001b[0m\u001b[0;34m,\u001b[0m \u001b[0;34m**\u001b[0m\u001b[0mfn_kwargs\u001b[0m\u001b[0;34m)\u001b[0m\u001b[0;34m\u001b[0m\u001b[0;34m\u001b[0m\u001b[0m\n\u001b[0m\u001b[1;32m   2368\u001b[0m             \u001b[0;32mif\u001b[0m \u001b[0mupdate_data\u001b[0m \u001b[0;32mis\u001b[0m \u001b[0;32mNone\u001b[0m\u001b[0;34m:\u001b[0m\u001b[0;34m\u001b[0m\u001b[0;34m\u001b[0m\u001b[0m\n\u001b[1;32m   2369\u001b[0m                 \u001b[0;31m# Check if the function returns updated examples\u001b[0m\u001b[0;34m\u001b[0m\u001b[0;34m\u001b[0m\u001b[0;34m\u001b[0m\u001b[0m\n",
      "\u001b[0;32m~/miniconda3/envs/main/lib/python3.8/site-packages/datasets/arrow_dataset.py\u001b[0m in \u001b[0;36mdecorated\u001b[0;34m(item, *args, **kwargs)\u001b[0m\n\u001b[1;32m   2060\u001b[0m                 )\n\u001b[1;32m   2061\u001b[0m                 \u001b[0;31m# Use the LazyDict internally, while mapping the function\u001b[0m\u001b[0;34m\u001b[0m\u001b[0;34m\u001b[0m\u001b[0;34m\u001b[0m\u001b[0m\n\u001b[0;32m-> 2062\u001b[0;31m                 \u001b[0mresult\u001b[0m \u001b[0;34m=\u001b[0m \u001b[0mf\u001b[0m\u001b[0;34m(\u001b[0m\u001b[0mdecorated_item\u001b[0m\u001b[0;34m,\u001b[0m \u001b[0;34m*\u001b[0m\u001b[0margs\u001b[0m\u001b[0;34m,\u001b[0m \u001b[0;34m**\u001b[0m\u001b[0mkwargs\u001b[0m\u001b[0;34m)\u001b[0m\u001b[0;34m\u001b[0m\u001b[0;34m\u001b[0m\u001b[0m\n\u001b[0m\u001b[1;32m   2063\u001b[0m                 \u001b[0;31m# Return a standard dict\u001b[0m\u001b[0;34m\u001b[0m\u001b[0;34m\u001b[0m\u001b[0;34m\u001b[0m\u001b[0m\n\u001b[1;32m   2064\u001b[0m                 \u001b[0;32mreturn\u001b[0m \u001b[0mresult\u001b[0m\u001b[0;34m.\u001b[0m\u001b[0mdata\u001b[0m \u001b[0;32mif\u001b[0m \u001b[0misinstance\u001b[0m\u001b[0;34m(\u001b[0m\u001b[0mresult\u001b[0m\u001b[0;34m,\u001b[0m \u001b[0mLazyDict\u001b[0m\u001b[0;34m)\u001b[0m \u001b[0;32melse\u001b[0m \u001b[0mresult\u001b[0m\u001b[0;34m\u001b[0m\u001b[0;34m\u001b[0m\u001b[0m\n",
      "\u001b[0;32m/tmp/ipykernel_364077/3029726851.py\u001b[0m in \u001b[0;36m<lambda>\u001b[0;34m(examples)\u001b[0m\n\u001b[1;32m     16\u001b[0m     \u001b[0;31m#return_tensors='pt'\u001b[0m\u001b[0;34m\u001b[0m\u001b[0;34m\u001b[0m\u001b[0;34m\u001b[0m\u001b[0m\n\u001b[1;32m     17\u001b[0m \u001b[0;31m#)\u001b[0m\u001b[0;34m\u001b[0m\u001b[0;34m\u001b[0m\u001b[0;34m\u001b[0m\u001b[0m\n\u001b[0;32m---> 18\u001b[0;31m \u001b[0mencoding\u001b[0m \u001b[0;34m=\u001b[0m \u001b[0mfren_120\u001b[0m\u001b[0;34m.\u001b[0m\u001b[0mmap\u001b[0m\u001b[0;34m(\u001b[0m\u001b[0;32mlambda\u001b[0m \u001b[0mexamples\u001b[0m\u001b[0;34m:\u001b[0m \u001b[0mtokenizer\u001b[0m\u001b[0;34m(\u001b[0m\u001b[0mexamples\u001b[0m\u001b[0;34m,\u001b[0m \u001b[0mpadding\u001b[0m\u001b[0;34m=\u001b[0m\u001b[0;34m'longest'\u001b[0m\u001b[0;34m,\u001b[0m \u001b[0mmax_length\u001b[0m\u001b[0;34m=\u001b[0m\u001b[0mmax_source_length\u001b[0m\u001b[0;34m,\u001b[0m \u001b[0mtruncation\u001b[0m\u001b[0;34m=\u001b[0m\u001b[0;32mTrue\u001b[0m\u001b[0;34m,\u001b[0m \u001b[0mreturn_tensors\u001b[0m\u001b[0;34m=\u001b[0m\u001b[0;34m'pt'\u001b[0m\u001b[0;34m,\u001b[0m \u001b[0mbatched\u001b[0m\u001b[0;34m=\u001b[0m\u001b[0;32mTrue\u001b[0m\u001b[0;34m)\u001b[0m\u001b[0;34m)\u001b[0m\u001b[0;34m\u001b[0m\u001b[0;34m\u001b[0m\u001b[0m\n\u001b[0m\u001b[1;32m     19\u001b[0m \u001b[0;34m\u001b[0m\u001b[0m\n\u001b[1;32m     20\u001b[0m \u001b[0mprint\u001b[0m\u001b[0;34m(\u001b[0m\u001b[0mlen\u001b[0m\u001b[0;34m(\u001b[0m\u001b[0mencoding\u001b[0m\u001b[0;34m)\u001b[0m\u001b[0;34m)\u001b[0m\u001b[0;34m\u001b[0m\u001b[0;34m\u001b[0m\u001b[0m\n",
      "\u001b[0;32m~/miniconda3/envs/main/lib/python3.8/site-packages/transformers/tokenization_utils_base.py\u001b[0m in \u001b[0;36m__call__\u001b[0;34m(self, text, text_pair, add_special_tokens, padding, truncation, max_length, stride, is_split_into_words, pad_to_multiple_of, return_tensors, return_token_type_ids, return_attention_mask, return_overflowing_tokens, return_special_tokens_mask, return_offsets_mapping, return_length, verbose, **kwargs)\u001b[0m\n\u001b[1;32m   2415\u001b[0m \u001b[0;34m\u001b[0m\u001b[0m\n\u001b[1;32m   2416\u001b[0m         \u001b[0;32mif\u001b[0m \u001b[0;32mnot\u001b[0m \u001b[0m_is_valid_text_input\u001b[0m\u001b[0;34m(\u001b[0m\u001b[0mtext\u001b[0m\u001b[0;34m)\u001b[0m\u001b[0;34m:\u001b[0m\u001b[0;34m\u001b[0m\u001b[0;34m\u001b[0m\u001b[0m\n\u001b[0;32m-> 2417\u001b[0;31m             raise ValueError(\n\u001b[0m\u001b[1;32m   2418\u001b[0m                 \u001b[0;34m\"text input must of type `str` (single example), `List[str]` (batch or single pretokenized example) \"\u001b[0m\u001b[0;34m\u001b[0m\u001b[0;34m\u001b[0m\u001b[0m\n\u001b[1;32m   2419\u001b[0m                 \u001b[0;34m\"or `List[List[str]]` (batch of pretokenized examples).\"\u001b[0m\u001b[0;34m\u001b[0m\u001b[0;34m\u001b[0m\u001b[0m\n",
      "\u001b[0;31mValueError\u001b[0m: text input must of type `str` (single example), `List[str]` (batch or single pretokenized example) or `List[List[str]]` (batch of pretokenized examples)."
     ]
    }
   ],
   "source": [
    "tokenizer = T5Tokenizer.from_pretrained('t5-small')\n",
    "model = T5ForConditionalGeneration.from_pretrained('t5-small')\n",
    "\n",
    "max_source_length = 128 \n",
    "max_tgt_length = 128\n",
    "\n",
    "input_sequences = fr_examples\n",
    "output_sequences = en_examples\n",
    "\n",
    "task_prefix = 'translate French to English'\n",
    "# encoding = tokenizer(\n",
    "  #  [task_prefix + seq for seq in input_sequences],\n",
    "   # padding='longest',\n",
    "    #max_length=max_source_length,\n",
    "    #truncation=True,\n",
    "    #return_tensors='pt'\n",
    "#)\n",
    "\n",
    "def preprocess_function(examples):\n",
    "    tokenized = tokenizer(examples[sentence1_key])\n",
    "        return tokenized\n",
    "\n",
    "    # Tokenize a pair of sentences: one defined by sentence1_key, the other defined by sentence2_key\n",
    "    tokenized = 1\n",
    "    return tokenized\n",
    "# YOUR CODE ENDS HERE\n",
    "encoding = fren_120.map(lambda examples: tokenizer(examples, padding='longest', max_length=max_source_length, truncation=True, return_tensors='pt', batched=True))\n",
    "\n",
    "print(len(encoding))\n",
    "input_ids, attention_mask = encoding.input_ids, encoding.attention_mask\n",
    "\n",
    "target_encoding = tokenizer(\n",
    "    output_sequences, padding='longest', max_length=max_target_length, truncation=True)\n",
    "labels=target_encoding.input_ids\n",
    "\n",
    "labels = torch.tensor(labels)\n",
    "labels[labels == tokenizer.pad_token_id] = -100\n",
    "\n",
    "loss = model(input_ids=input_ids, attention_mask=attention_mask, labels=labels).loss"
   ]
  },
  {
   "cell_type": "code",
   "execution_count": 60,
   "id": "8949b51d-780a-4321-b2f9-5d7fb8198dd9",
   "metadata": {},
   "outputs": [],
   "source": [
    "enfr_dict['train'] = _train\n",
    "enfr_dict['test'] = _test"
   ]
  },
  {
   "cell_type": "code",
   "execution_count": 62,
   "id": "9c833ff1-d174-4156-8a68-298f9282fa0b",
   "metadata": {},
   "outputs": [
    {
     "ename": "KeyError",
     "evalue": "'train'",
     "output_type": "error",
     "traceback": [
      "\u001b[0;31m---------------------------------------------------------------------------\u001b[0m",
      "\u001b[0;31mKeyError\u001b[0m                                  Traceback (most recent call last)",
      "\u001b[0;32m/tmp/ipykernel_364077/1061391657.py\u001b[0m in \u001b[0;36m<module>\u001b[0;34m\u001b[0m\n\u001b[1;32m      4\u001b[0m \u001b[0;34m\u001b[0m\u001b[0m\n\u001b[1;32m      5\u001b[0m \u001b[0mcollator\u001b[0m \u001b[0;34m=\u001b[0m \u001b[0mDataCollatorWithPadding\u001b[0m\u001b[0;34m(\u001b[0m\u001b[0mtokenizer\u001b[0m\u001b[0;34m=\u001b[0m\u001b[0mtokenizer\u001b[0m\u001b[0;34m)\u001b[0m\u001b[0;34m\u001b[0m\u001b[0;34m\u001b[0m\u001b[0m\n\u001b[0;32m----> 6\u001b[0;31m \u001b[0mtrain_dataloader\u001b[0m \u001b[0;34m=\u001b[0m \u001b[0mtorch\u001b[0m\u001b[0;34m.\u001b[0m\u001b[0mutils\u001b[0m\u001b[0;34m.\u001b[0m\u001b[0mdata\u001b[0m\u001b[0;34m.\u001b[0m\u001b[0mDataLoader\u001b[0m\u001b[0;34m(\u001b[0m\u001b[0mencoding\u001b[0m\u001b[0;34m[\u001b[0m\u001b[0;34m'train'\u001b[0m\u001b[0;34m]\u001b[0m\u001b[0;34m,\u001b[0m \u001b[0mshuffle\u001b[0m\u001b[0;34m=\u001b[0m\u001b[0;32mTrue\u001b[0m\u001b[0;34m,\u001b[0m \u001b[0mbatch_size\u001b[0m\u001b[0;34m=\u001b[0m\u001b[0mbatch_size\u001b[0m\u001b[0;34m,\u001b[0m \u001b[0mcollate_fn\u001b[0m\u001b[0;34m=\u001b[0m\u001b[0mcollator\u001b[0m\u001b[0;34m)\u001b[0m\u001b[0;34m\u001b[0m\u001b[0;34m\u001b[0m\u001b[0m\n\u001b[0m\u001b[1;32m      7\u001b[0m \u001b[0mvalid_dataloader\u001b[0m \u001b[0;34m=\u001b[0m \u001b[0mtorch\u001b[0m\u001b[0;34m.\u001b[0m\u001b[0mutils\u001b[0m\u001b[0;34m.\u001b[0m\u001b[0mdata\u001b[0m\u001b[0;34m.\u001b[0m\u001b[0mDataLoader\u001b[0m\u001b[0;34m(\u001b[0m\u001b[0mencoding\u001b[0m\u001b[0;34m[\u001b[0m\u001b[0;34m'validation'\u001b[0m\u001b[0;34m]\u001b[0m\u001b[0;34m,\u001b[0m \u001b[0mbatch_size\u001b[0m\u001b[0;34m=\u001b[0m\u001b[0mbatch_size\u001b[0m\u001b[0;34m,\u001b[0m \u001b[0mcollate_fn\u001b[0m\u001b[0;34m=\u001b[0m\u001b[0mcollator\u001b[0m\u001b[0;34m)\u001b[0m\u001b[0;34m\u001b[0m\u001b[0;34m\u001b[0m\u001b[0m\n",
      "\u001b[0;32m~/miniconda3/envs/main/lib/python3.8/site-packages/transformers/tokenization_utils_base.py\u001b[0m in \u001b[0;36m__getitem__\u001b[0;34m(self, item)\u001b[0m\n\u001b[1;32m    237\u001b[0m         \"\"\"\n\u001b[1;32m    238\u001b[0m         \u001b[0;32mif\u001b[0m \u001b[0misinstance\u001b[0m\u001b[0;34m(\u001b[0m\u001b[0mitem\u001b[0m\u001b[0;34m,\u001b[0m \u001b[0mstr\u001b[0m\u001b[0;34m)\u001b[0m\u001b[0;34m:\u001b[0m\u001b[0;34m\u001b[0m\u001b[0;34m\u001b[0m\u001b[0m\n\u001b[0;32m--> 239\u001b[0;31m             \u001b[0;32mreturn\u001b[0m \u001b[0mself\u001b[0m\u001b[0;34m.\u001b[0m\u001b[0mdata\u001b[0m\u001b[0;34m[\u001b[0m\u001b[0mitem\u001b[0m\u001b[0;34m]\u001b[0m\u001b[0;34m\u001b[0m\u001b[0;34m\u001b[0m\u001b[0m\n\u001b[0m\u001b[1;32m    240\u001b[0m         \u001b[0;32melif\u001b[0m \u001b[0mself\u001b[0m\u001b[0;34m.\u001b[0m\u001b[0m_encodings\u001b[0m \u001b[0;32mis\u001b[0m \u001b[0;32mnot\u001b[0m \u001b[0;32mNone\u001b[0m\u001b[0;34m:\u001b[0m\u001b[0;34m\u001b[0m\u001b[0;34m\u001b[0m\u001b[0m\n\u001b[1;32m    241\u001b[0m             \u001b[0;32mreturn\u001b[0m \u001b[0mself\u001b[0m\u001b[0;34m.\u001b[0m\u001b[0m_encodings\u001b[0m\u001b[0;34m[\u001b[0m\u001b[0mitem\u001b[0m\u001b[0;34m]\u001b[0m\u001b[0;34m\u001b[0m\u001b[0;34m\u001b[0m\u001b[0m\n",
      "\u001b[0;31mKeyError\u001b[0m: 'train'"
     ]
    }
   ],
   "source": [
    "from transformers.data.data_collator import DataCollatorWithPadding\n",
    "\n",
    "batch_size = 2\n",
    "\n",
    "collator = DataCollatorWithPadding(tokenizer=tokenizer)\n",
    "train_dataloader = torch.utils.data.DataLoader(encoding['train'], shuffle=True, batch_size=batch_size, collate_fn=collator)\n",
    "valid_dataloader = torch.utils.data.DataLoader(encoding['validation'], batch_size=batch_size, collate_fn=collator)"
   ]
  },
  {
   "cell_type": "code",
   "execution_count": 71,
   "id": "8f592b47-3992-4841-9e00-7b71374a72f3",
   "metadata": {},
   "outputs": [
    {
     "data": {
      "text/plain": [
       "100"
      ]
     },
     "execution_count": 71,
     "metadata": {},
     "output_type": "execute_result"
    }
   ],
   "source": []
  },
  {
   "cell_type": "code",
   "execution_count": 73,
   "id": "5df47e4e-a41c-4227-a06a-78cb707c2ef6",
   "metadata": {},
   "outputs": [
    {
     "data": {
      "text/plain": [
       "[{'en': 'Resumption of the session', 'fr': 'Reprise de la session'},\n",
       " {'en': 'I declare resumed the session of the European Parliament adjourned on Friday 17 December 1999, and I would like once again to wish you a happy new year in the hope that you enjoyed a pleasant festive period.',\n",
       "  'fr': 'Je déclare reprise la session du Parlement européen qui avait été interrompue le vendredi 17 décembre dernier et je vous renouvelle tous mes vux en espérant que vous avez passé de bonnes vacances.'},\n",
       " {'en': \"Although, as you will have seen, the dreaded 'millennium bug' failed to materialise, still the people in a number of countries suffered a series of natural disasters that truly were dreadful.\",\n",
       "  'fr': 'Comme vous avez pu le constater, le grand \"bogue de l\\'an 2000\" ne s\\'est pas produit. En revanche, les citoyens d\\'un certain nombre de nos pays ont été victimes de catastrophes naturelles qui ont vraiment été terribles.'},\n",
       " {'en': 'You have requested a debate on this subject in the course of the next few days, during this part-session.',\n",
       "  'fr': 'Vous avez souhaité un débat à ce sujet dans les prochains jours, au cours de cette période de session.'},\n",
       " {'en': \"In the meantime, I should like to observe a minute' s silence, as a number of Members have requested, on behalf of all the victims concerned, particularly those of the terrible storms, in the various countries of the European Union.\",\n",
       "  'fr': \"En attendant, je souhaiterais, comme un certain nombre de collègues me l'ont demandé, que nous observions une minute de silence pour toutes les victimes, des tempêtes notamment, dans les différents pays de l'Union européenne qui ont été touchés.\"},\n",
       " {'en': \"Please rise, then, for this minute' s silence.\",\n",
       "  'fr': 'Je vous invite à vous lever pour cette minute de silence.'},\n",
       " {'en': \"(The House rose and observed a minute' s silence)\",\n",
       "  'fr': '(Le Parlement, debout, observe une minute de silence)'},\n",
       " {'en': 'Madam President, on a point of order.',\n",
       "  'fr': \"Madame la Présidente, c'est une motion de procédure.\"},\n",
       " {'en': 'You will be aware from the press and television that there have been a number of bomb explosions and killings in Sri Lanka.',\n",
       "  'fr': 'Vous avez probablement appris par la presse et par la télévision que plusieurs attentats à la bombe et crimes ont été perpétrés au Sri Lanka.'},\n",
       " {'en': 'One of the people assassinated very recently in Sri Lanka was Mr Kumar Ponnambalam, who had visited the European Parliament just a few months ago.',\n",
       "  'fr': \"L'une des personnes qui vient d'être assassinée au Sri Lanka est M. Kumar Ponnambalam, qui avait rendu visite au Parlement européen il y a quelques mois à peine.\"},\n",
       " {'en': \"Would it be appropriate for you, Madam President, to write a letter to the Sri Lankan President expressing Parliament's regret at his and the other violent deaths in Sri Lanka and urging her to do everything she possibly can to seek a peaceful reconciliation to a very difficult situation?\",\n",
       "  'fr': \"Ne pensez-vous pas, Madame la Présidente, qu'il conviendrait d'écrire une lettre au président du Sri Lanka pour lui communiquer que le Parlement déplore les morts violentes, dont celle de M. Ponnambalam, et pour l'inviter instamment à faire tout ce qui est en son pouvoir pour chercher une réconciliation pacifique et mettre un terme à cette situation particulièrement difficile.\"},\n",
       " {'en': 'Yes, Mr Evans, I feel an initiative of the type you have just suggested would be entirely appropriate.',\n",
       "  'fr': \"Oui, Monsieur Evans, je pense qu'une initiative dans le sens que vous venez de suggérer serait tout à fait appropriée.\"},\n",
       " {'en': 'If the House agrees, I shall do as Mr Evans has suggested.',\n",
       "  'fr': \"Si l'Assemblée en est d'accord, je ferai comme M. Evans l'a suggéré.\"},\n",
       " {'en': 'Madam President, on a point of order.',\n",
       "  'fr': \"Madame la Présidente, c'est une motion de procédure.\"},\n",
       " {'en': 'I would like your advice about Rule 143 concerning inadmissibility.',\n",
       "  'fr': \"Je voudrais vous demander un conseil au sujet de l'article 143, qui concerne l'irrecevabilité.\"},\n",
       " {'en': 'My question relates to something that will come up on Thursday and which I will then raise again.',\n",
       "  'fr': \"Ma question porte sur un sujet qui est à l'ordre du jour du jeudi et que je soulèverai donc une nouvelle fois.\"},\n",
       " {'en': 'The Cunha report on multiannual guidance programmes comes before Parliament on Thursday and contains a proposal in paragraph 6 that a form of quota penalties should be introduced for countries which fail to meet their fleet reduction targets annually.',\n",
       "  'fr': \"Le paragraphe 6 du rapport Cunha sur les programmes d'orientation pluriannuels, qui sera soumis au Parlement ce jeudi, propose d'introduire des sanctions applicables aux pays qui ne respectent pas les objectifs annuels de réduction de leur flotte.\"},\n",
       " {'en': 'It says that this should be done despite the principle of relative stability.',\n",
       "  'fr': 'Il précise que cela devrait être fait malgré le principe de stabilité relative.'},\n",
       " {'en': 'I believe that the principle of relative stability is a fundamental legal principle of the common fisheries policy and a proposal to subvert it would be legally inadmissible.',\n",
       "  'fr': 'À mon sens, le principe de stabilité relative est un principe juridique fondamental de la politique commune de la pêche et toute proposition le bouleversant serait juridiquement irrecevable.'},\n",
       " {'en': 'I want to know whether one can raise an objection of that kind to what is merely a report, not a legislative proposal, and whether that is something I can competently do on Thursday.',\n",
       "  'fr': \"Je voudrais savoir si l'on peut avancer une objection de ce type à ce qui n'est qu'un rapport, pas une proposition législative, et si je suis habilité à le faire ce jeudi.\"},\n",
       " {'en': 'That is precisely the time when you may, if you wish, raise this question, i.e. on Thursday prior to the start of the presentation of the report.',\n",
       "  'fr': \"C'est exactement à ce moment-là que vous pourrez, en effet, si vous le souhaitez, soulever cette question, c'est-à-dire jeudi avant le début de la présentation du rapport.\"},\n",
       " {'en': \"Madam President, coinciding with this year' s first part-session of the European Parliament, a date has been set, unfortunately for next Thursday, in Texas in America, for the execution of a young 34 year-old man who has been sentenced to death. We shall call him Mr Hicks.\",\n",
       "  'fr': \"Madame la Présidente, alors que se déroule la première session de l'année du Parlement européen, l'exécution d'un condamné à mort au Texas aux États-Unis, un jeune homme de 34 ans appelé Hicks, a été fixée, malheureusement, à jeudi prochain.\"},\n",
       " {'en': 'At the request of a French Member, Mr Zimeray, a petition has already been presented, which many people signed, including myself.',\n",
       "  'fr': \"À la demande d'un député français, Monsieur Zimeray, une pétition a déjà été introduite ; elle a récolté de nombreuses signatures dont la mienne.\"},\n",
       " {'en': 'However, I would ask you, in accordance with the line which is now constantly followed by the European Parliament and by the whole of the European Community, to make representations, using the weight of your prestigious office and the institution you represent, to the President and to the Governor of Texas, Mr Bush, who has the power to order a stay of execution and to reprieve the condemned person.',\n",
       "  'fr': \"Cependant, je vous demande, conformément à l'orientation désormais constamment exprimée par le Parlement européen et toute la Communauté européenne, d'intervenir auprès du président et du gouverneur du Texas, Monsieur Bush, en faisant jouer le prestige de votre mandat et de l'Institution que vous représentez, car c'est Monsieur Bush qui a le pouvoir de suspendre la condamnation à mort et de gracier le condamné.\"},\n",
       " {'en': 'This is all in accordance with the principles that we have always upheld.',\n",
       "  'fr': 'Et tout ceci dans le respect des principes que nous avons toujours soutenus.'},\n",
       " {'en': 'Thank you, Mr Segni, I shall do so gladly.',\n",
       "  'fr': 'Merci, Monsieur Segni, je le ferai bien volontiers.'},\n",
       " {'en': 'Indeed, it is quite in keeping with the positions this House has always adopted.',\n",
       "  'fr': \"C'est en effet tout à fait dans la ligne des positions que notre Parlement a toujours adoptées.\"},\n",
       " {'en': 'Madam President, I should like to draw your attention to a case in which this Parliament has consistently shown an interest.',\n",
       "  'fr': \"Madame la Présidente, je voudrais attirer votre attention sur un cas dont s'est régulièrement occupé le Parlement.\"},\n",
       " {'en': 'It is the case of Alexander Nikitin.',\n",
       "  'fr': \"Il s'agit du cas d'Alexandre Nikitin.\"},\n",
       " {'en': 'All of us here are pleased that the courts have acquitted him and made it clear that in Russia, too, access to environmental information is a constitutional right.',\n",
       "  'fr': \"Nous nous réjouissons tous, dans cette enceinte, que le tribunal ait prononcé sa libération et ait clairement établi qu'en Russie aussi, l'accès aux informations environnementales était un droit constitutionnel.\"},\n",
       " {'en': 'Now, however, he is to go before the courts once more because the public prosecutor is appealing.',\n",
       "  'fr': \"Cependant, il se fait qu'il semblerait être à nouveau mis en accusation, le ministère public ayant interjeté appel.\"},\n",
       " {'en': 'We know, and we have stated as much in very many resolutions indeed, including specifically during the last plenary part-session of last year, that this is not solely a legal case and that it is wrong for Alexander Nikitin to be accused of criminal activity and treason because of our involvement as the beneficiaries of his findings.',\n",
       "  'fr': \"Nous savons, et nous l'avons d'ailleurs établi dans de très nombreuses résolutions - y compris lors de la dernière période de session de l'année dernière -, que ce cas n'est pas seulement de nature juridique et qu'il est faux d'accuser Alexandre Nikitin d'activité criminelle et de trahison car nous sommes concernés par ses résultats et nous en profitons.\"},\n",
       " {'en': \"These findings form the basis of the European programmes to protect the Barents Sea, and that is why I would ask you to examine a draft letter setting out the most important facts and to make Parliament's position, as expressed in the resolutions which it has adopted, clear as far as Russia is concerned.\",\n",
       "  'fr': \"Ces résultats forment la base des programmes européens de protection de la mer de Barents et c'est pourquoi je vous prie d'examiner un projet de lettre vous dépeignant les faits essentiels de cette affaire et de communiquer à la Russie la position qui découle des décisions du Parlement.\"},\n",
       " {'en': 'Yes, Mrs Schroedter, I shall be pleased to look into the facts of this case when I have received your letter.',\n",
       "  'fr': \"Oui, Madame Schroedter, j'examinerai bien volontiers les faits relatifs à cette question lorsque j'aurai reçu votre lettre.\"},\n",
       " {'en': 'Madam President, I would firstly like to compliment you on the fact that you have kept your word and that, during this first part-session of the new year, the number of television channels in our offices has indeed increased considerably.',\n",
       "  'fr': \"Madame la Présidente, je voudrais tout d'abord vous féliciter pour avoir tenu parole car en effet, en cette première période de session, en cette nouvelle année, le nombre de chaînes de télévision a réellement été augmenté de manière significative dans nos locaux.\"},\n",
       " {'en': 'But, Madam President, my personal request has not been met.',\n",
       "  'fr': \"Toutefois, Madame la Présidente, ce que j'avais demandé n'a pas été réalisé.\"},\n",
       " {'en': 'Although there are now two Finnish channels and one Portuguese one, there is still no Dutch channel, which is what I had requested because Dutch people here like to be able to follow the news too when we are sent to this place of exile every month.',\n",
       "  'fr': \"Il y a bien deux chaînes finnoises et une chaîne portugaise, mais il n'y a toujours aucune chaîne néerlandaise. Pourtant je vous avais demandé une chaîne néerlandaise, car les Néerlandais aussi désirent pouvoir suivre les actualités chaque mois lorsqu'ils sont envoyés en cette terre d'exil.\"},\n",
       " {'en': 'I would therefore once more ask you to ensure that we get a Dutch channel as well.',\n",
       "  'fr': \"Je vous demande donc à nouveau de faire le nécessaire pour que nous puissions disposer d'une chaîne néerlandaise.\"},\n",
       " {'en': \"Mrs Plooij-van Gorsel, I can tell you that this matter is on the agenda for the Quaestors' meeting on Wednesday.\",\n",
       "  'fr': \"Madame Plooij-van Gorsel, je peux vous dire que cette question est à l'ordre du jour de la réunion des questeurs de mercredi.\"},\n",
       " {'en': 'It will, I hope, be examined in a positive light.',\n",
       "  'fr': \"Elle sera, je l'espère, examinée dans un esprit positif.\"},\n",
       " {'en': 'Madam President, can you tell me why this Parliament does not adhere to the health and safety legislation that it actually passes?',\n",
       "  'fr': \"Madame la Présidente, comment se fait-il que le Parlement ne se conforme pas à la réglementation en matière de santé et de sécurité qu'il vote ?\"},\n",
       " {'en': 'Why has no air quality test been done on this particular building since we were elected?',\n",
       "  'fr': \"Comment se fait-il qu'aucun test de qualité de l'air n'ait été réalisé dans ce bâtiment depuis notre élection ?\"},\n",
       " {'en': 'Why has there been no Health and Safety Committee meeting since 1998?',\n",
       "  'fr': \"Comment se fait-il que le comité de santé et d'hygiène ne se soit plus réuni depuis 1998 ?\"},\n",
       " {'en': 'Why has there been no fire drill, either in the Brussels Parliament buildings or the Strasbourg Parliament buildings?',\n",
       "  'fr': \"Comment se fait-il que nous n'ayons jamais fait d'exercice d'évacuation dans les bâtiments du Parlement de Bruxelles et de Strasbourg ?\"},\n",
       " {'en': 'Why are there no fire instructions?',\n",
       "  'fr': \"Comment se fait-il qu'il n'y ait pas de consignes en cas d'incendie ?\"},\n",
       " {'en': 'Why have the staircases not been improved since my accident?',\n",
       "  'fr': \"Comment se fait-il que les escaliers n'aient pas été améliorés depuis mon accident ?\"},\n",
       " {'en': 'Why are no-smoking areas not enforced?',\n",
       "  'fr': \"Comment se fait-il que l'on ne respecte pas les zones non fumeurs ?\"},\n",
       " {'en': 'It seems absolutely disgraceful that we pass legislation and do not adhere to it ourselves.',\n",
       "  'fr': \"Nous votons des réglementations et nous ne nous y conformons même pas. C'est scandaleux.\"},\n",
       " {'en': 'Mrs Lynne, you are quite right and I shall check whether this has actually not been done.',\n",
       "  'fr': \"Madame Lynne, vous avez parfaitement raison et je vais vérifier si tout cela n' a effectivement pas été fait.\"},\n",
       " {'en': 'I shall also refer the matter to the College of Quaestors, and I am certain that they will be keen to ensure that we comply with the regulations we ourselves vote on.',\n",
       "  'fr': \"Je vais soumettre également le problème au Collège des questeurs et je suis certaine que nos questeurs auront à cur de faire en sorte que nous respections la réglementation qu' en effet nous votons.\"},\n",
       " {'en': 'Madam President, Mrs Díez González and I had tabled questions on certain opinions of the Vice-President, Mrs de Palacio, which appeared in a Spanish newspaper.',\n",
       "  'fr': 'Madame la Présidente, Mme Díez González et moi-même avions présenté quelques questions sur certaines opinions exprimées par la vice-présidente, Mme de Palacio, et publiées dans un journal espagnol.'},\n",
       " {'en': 'The competent services have not included them in the agenda on the grounds that they had been answered in a previous part-session.',\n",
       "  'fr': \"Les services compétents ne les ont pas inclues à l'ordre du jour, avançant que des réponses avaient déjà été apportées lors d'une précédente session.\"},\n",
       " {'en': 'I would ask that they reconsider, since this is not the case.',\n",
       "  'fr': \"Je demande que cette décision soit reconsidérée car ce n'est pas le cas.\"},\n",
       " {'en': \"The questions answered previously referred to Mrs de Palacio' s intervention, on another occasion, and not to these comments which appeared in the ABC newspaper on 18 November.\",\n",
       "  'fr': \"Les questions auxquelles on a répondu précédemment se rapportaient à l'intervention de Mme de Palacio dans un dossier précis, et non aux déclarations parues dans le journal ABC du 18 novembre dernier.\"},\n",
       " {'en': 'Mr Berenguer Fuster, we shall check all this.',\n",
       "  'fr': 'Cher collègue nous allons vérifier tout cela.'},\n",
       " {'en': 'I admit that, at present, the matter seems to be somewhat confused.',\n",
       "  'fr': 'Je vous avouerai que, pour le moment, les choses me semblent un petit peu confuses.'},\n",
       " {'en': 'We shall therefore look into it properly to ensure that everything is as it should be.',\n",
       "  'fr': 'Donc, nous allons revoir cela très sérieusement pour que tout soit bien en ordre.'},\n",
       " {'en': \"Madam President, I should like to know if there will be a clear message going out from Parliament this week about our discontent over today's decision refusing to renew the arms embargo on Indonesia, considering that the vast majority in this Parliament have endorsed the arms embargo in Indonesia in the past?\",\n",
       "  'fr': \"Madame la Présidente, je voudrais savoir si cette semaine, le Parlement va envoyer un message clair exprimant son mécontentement quant à la décision prise aujourd'hui de refuser de renouveler l'embargo sur les armes à destination de l'Indonésie, alors que par le passé, le Parlement a souscrit à une très large majorité à l'embargo sur les armes à destination de l'Indonésie.\"},\n",
       " {'en': \"Today's decision not to renew the embargo is extremely dangerous considering the situation there.\",\n",
       "  'fr': \"La décision d'aujourd'hui de ne pas renouveler l'embargo est extrêmement dangereuse, compte tenu de la situation sur place.\"},\n",
       " {'en': 'So Parliament should send a message, since that is the wish of the vast majority.',\n",
       "  'fr': \"Le Parlement devrait dès lors envoyer un message en ce sens, étant donné qu'une grande majorité des députés le souhaite.\"},\n",
       " {'en': 'It is irresponsible of EU Member States to refuse to renew the embargo.',\n",
       "  'fr': \"En refusant de prolonger l'embargo, les États membres font preuve d'irresponsabilité.\"},\n",
       " {'en': 'As people have said, the situation there is extremely volatile.',\n",
       "  'fr': \"D'aucuns l'ont dit, la situation en Indonésie est extrêmement explosive.\"},\n",
       " {'en': 'There is, in fact, a risk of a military coup in the future.',\n",
       "  'fr': \"Il y a en réalité un risque de coup d'État.\"},\n",
       " {'en': 'We do not know what is happening.',\n",
       "  'fr': 'Nous ne savons pas ce qui se passe.'},\n",
       " {'en': 'So why should EU arms producers profit at the expense of innocent people?',\n",
       "  'fr': \"Pourquoi donc les producteurs d'armes de l'UE devraient-ils s'enrichir sur le dos de personnes innocentes ?\"},\n",
       " {'en': 'In any event, this question is not presently included among the requests for topical and urgent debate on Thursday.',\n",
       "  'fr': \"En tout cas, cette question ne figure pas pour l' instant parmi les demandes d' urgence pour jeudi prochain.\"},\n",
       " {'en': 'Agenda', 'fr': 'Ordre des travaux'},\n",
       " {'en': 'The next item is the verification of the final version of the draft agenda as drawn up by the Conference of Presidents at its meeting of 13 January pursuant to Rule 110 of the Rules of Procedure.',\n",
       "  'fr': \"L' ordre du jour appelle l' examen du projet définitif d' ordre du jour tel qu' il a été établi par la Conférence des présidents, le jeudi 13 janvier, conformément à l' article 110 du règlement.\"},\n",
       " {'en': 'No amendments have been proposed relating to Monday and Tuesday.',\n",
       "  'fr': \"S' agissant de lundi et mardi, je n' ai pas de modifications.\"},\n",
       " {'en': 'Relating to Wednesday:', 'fr': 'En ce qui concerne le mercredi :'},\n",
       " {'en': 'The Group of the Party of European Socialists requests that a Commission statement be included on its strategic objectives for the next five years and on the administrative reform of the Commission.',\n",
       "  'fr': \"Le groupe socialiste demande d' inclure une déclaration de la Commission sur ses objectifs stratégiques pour les cinq ans à venir, ainsi que sur la réforme administrative de la Commission.\"},\n",
       " {'en': 'I would like Mr Barón Crespo, who made the request, to speak to propose it. That is, if he so wishes, of course.',\n",
       "  'fr': \"Je souhaiterais que M. Barón Crespo, auteur de la demande, intervienne pour la justifier, s' il le souhaite bien sûr.\"},\n",
       " {'en': 'Then we shall follow the usual procedure, hearing one speaker in favour and one against.',\n",
       "  'fr': \"Puis , nous ferons comme d' habitude : nous entendrons un orateur pour et un orateur contre.\"},\n",
       " {'en': \"Madam President, the presentation of the Prodi Commission' s political programme for the whole legislature was initially a proposal by the Group of the Party of European Socialists which was unanimously approved by the Conference of Presidents in September and which was also explicitly accepted by President Prodi, who reiterated his commitment in his inaugural speech.\",\n",
       "  'fr': \"Madame la Présidente, la présentation du programme politique de la Commission Prodi pour l'ensemble de la législature était au départ une proposition du groupe du parti des socialistes européens qui a obtenu l'unanimité lors de la Conférence des présidents en septembre, mais aussi l'approbation explicite du président Prodi, qui a réitéré son engagement dans son discours d'investiture.\"},\n",
       " {'en': \"This commitment is important because the Commission is a body with a monopoly of initiative in accordance with the Treaties and, therefore, basically dictates this Parliament' s political and legislative activity for the next five years.\",\n",
       "  'fr': \"Cet engagement est important dans la mesure où la Commission est un organisme qui détient, conformément aux Traités, le monopole de l'initiative et qui, par conséquent, décide pour l'essentiel quelle sera l'activité politique et législative de ce Parlement au cours des cinq prochaines années.\"},\n",
       " {'en': 'I would also like to point out, Madam President, that this Parliament voted to express its confidence in President Prodi during the previous legislature. It did so again during this legislature, in July, and then, in September, it voted once more to approve the whole Commission.',\n",
       "  'fr': \"Je vous rappelle en outre, Madame la Présidente, que ce Parlement a voté par deux fois la confiance au président Prodi lors de la précédente législature ; au cours de cette législature, il l'a de nouveau votée en juillet et, ensuite, avec l'entrée en fonction de la nouvelle Commission, il a redonné sa confiance en septembre à l'ensemble de la Commission.\"},\n",
       " {'en': 'There has therefore been enough time for the Commission to prepare its programme and for us to become familiar with it and explain it to our citizens.',\n",
       "  'fr': \"Il s'est donc écoulé suffisamment de temps pour que la Commission prépare son programme et pour que nous puissions en prendre connaissance et l'expliquer aux citoyens.\"},\n",
       " {'en': 'To this end, I would like to remind you of the resolution of 15 September, which recommended that the proposal be presented as soon as possible.',\n",
       "  'fr': 'En ce sens, je vous rappelle la résolution du 15 septembre, laquelle recommandait que la proposition soit présentée dans les plus brefs délais.'},\n",
       " {'en': 'The events of last week - which originated outside the Conference of Presidents, that Conference being used simply to corroborate and ratify decisions taken elsewhere - present us with a dilemma. Either the Commission is not ready to present this programme, in which case it should clarify it.',\n",
       "  'fr': \"Les événements qui se sont produits la semaine dernière \\xad qui sont nés en marge de la Conférence des présidents et se servent d'elle dans le seul but de corroborer et de ratifier des décisions prises en dehors de celle-ci \\xad créent un dilemme : ou bien la Commission n'est pas en mesure de présenter ce programme ; (dans ce cas, il conviendrait qu'elle tire les choses au clair.\"},\n",
       " {'en': 'According to its President, it is in a position to do so.',\n",
       "  'fr': 'Aux dires de son Président, la Commission serait en mesure de le faire.'}]"
      ]
     },
     "execution_count": 73,
     "metadata": {},
     "output_type": "execute_result"
    }
   ],
   "source": [
    "_train"
   ]
  },
  {
   "cell_type": "code",
   "execution_count": null,
   "id": "35929648-592f-48f2-be7c-c7d540132d07",
   "metadata": {},
   "outputs": [],
   "source": []
  }
 ],
 "metadata": {
  "kernelspec": {
   "display_name": "Python 3 (ipykernel)",
   "language": "python",
   "name": "python3"
  },
  "language_info": {
   "codemirror_mode": {
    "name": "ipython",
    "version": 3
   },
   "file_extension": ".py",
   "mimetype": "text/x-python",
   "name": "python",
   "nbconvert_exporter": "python",
   "pygments_lexer": "ipython3",
   "version": "3.8.12"
  }
 },
 "nbformat": 4,
 "nbformat_minor": 5
}
