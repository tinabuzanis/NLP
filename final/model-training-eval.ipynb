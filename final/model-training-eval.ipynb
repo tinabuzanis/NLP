{
 "cells": [
  {
   "cell_type": "code",
   "execution_count": 1,
   "id": "37641f22-2123-4e33-93a3-6a888a612ab7",
   "metadata": {},
   "outputs": [],
   "source": [
    "#imports\n",
    "import datasets\n",
    "from datasets import load_dataset, load_metric\n",
    "from transformers import T5Tokenizer, T5ForConditionalGeneration, AutoTokenizer, DataCollatorForSeq2Seq\n",
    "import torch\n",
    "import wandb"
   ]
  },
  {
   "cell_type": "code",
   "execution_count": 2,
   "id": "0ca23f59-aa53-4432-bf6a-7a733220b1d9",
   "metadata": {},
   "outputs": [
    {
     "name": "stderr",
     "output_type": "stream",
     "text": [
      "Reusing dataset wmt14 (/home/tina/.cache/huggingface/datasets/wmt14/fr-en/1.0.0/6aa64c5c4f2c1c217718c6d6266aad92d1229e761c57379c53752b8c0e55c93b)\n"
     ]
    },
    {
     "data": {
      "application/vnd.jupyter.widget-view+json": {
       "model_id": "63ee0de32abe4d52af49a026876bae0c",
       "version_major": 2,
       "version_minor": 0
      },
      "text/plain": [
       "  0%|          | 0/3 [00:00<?, ?it/s]"
      ]
     },
     "metadata": {},
     "output_type": "display_data"
    },
    {
     "name": "stderr",
     "output_type": "stream",
     "text": [
      "Reusing dataset wmt14 (/home/tina/.cache/huggingface/datasets/wmt14/ru-en/1.0.0/6aa64c5c4f2c1c217718c6d6266aad92d1229e761c57379c53752b8c0e55c93b)\n"
     ]
    },
    {
     "data": {
      "application/vnd.jupyter.widget-view+json": {
       "model_id": "60f940231c7f4286b03ea064de1158f9",
       "version_major": 2,
       "version_minor": 0
      },
      "text/plain": [
       "  0%|          | 0/3 [00:00<?, ?it/s]"
      ]
     },
     "metadata": {},
     "output_type": "display_data"
    },
    {
     "data": {
      "text/plain": [
       "DatasetDict({\n",
       "    fr-en: DatasetDict({\n",
       "        train: Dataset({\n",
       "            features: ['translation'],\n",
       "            num_rows: 40836715\n",
       "        })\n",
       "        validation: Dataset({\n",
       "            features: ['translation'],\n",
       "            num_rows: 3000\n",
       "        })\n",
       "        test: Dataset({\n",
       "            features: ['translation'],\n",
       "            num_rows: 3003\n",
       "        })\n",
       "    })\n",
       "    ru-en: DatasetDict({\n",
       "        train: Dataset({\n",
       "            features: ['translation'],\n",
       "            num_rows: 1486965\n",
       "        })\n",
       "        validation: Dataset({\n",
       "            features: ['translation'],\n",
       "            num_rows: 3000\n",
       "        })\n",
       "        test: Dataset({\n",
       "            features: ['translation'],\n",
       "            num_rows: 3003\n",
       "        })\n",
       "    })\n",
       "})"
      ]
     },
     "execution_count": 2,
     "metadata": {},
     "output_type": "execute_result"
    }
   ],
   "source": [
    "model_checkpoint = 't5-small'\n",
    "fr_en_raw_dataset = load_dataset('wmt14', 'fr-en')\n",
    "ru_en_raw_dataset = load_dataset('wmt14', 'ru-en') # we'll augment this with backtranslation soon\n",
    "\n",
    "# master dict with all of the languages - setup for multitranslation\n",
    "# we have the model working for translation between two languages - \n",
    "# all that is needed is to change the preprocess_fn to handle the new shape\n",
    "# of this master dict \n",
    "all_langs = datasets.DatasetDict(\n",
    "    {\n",
    "        'fr-en' : fr_en_raw_dataset,\n",
    "        'ru-en' : ru_en_raw_dataset\n",
    "    }\n",
    ")\n",
    " \n",
    "all_langs"
   ]
  },
  {
   "cell_type": "code",
   "execution_count": 3,
   "id": "a80e2abf-d7e9-43d4-9d3d-dfbcbe695b3c",
   "metadata": {},
   "outputs": [
    {
     "name": "stderr",
     "output_type": "stream",
     "text": [
      "Reusing dataset wmt14 (/home/tina/.cache/huggingface/datasets/wmt14/fr-en/1.0.0/6aa64c5c4f2c1c217718c6d6266aad92d1229e761c57379c53752b8c0e55c93b)\n"
     ]
    },
    {
     "data": {
      "text/plain": [
       "DatasetDict({\n",
       "    train: Dataset({\n",
       "        features: ['translation'],\n",
       "        num_rows: 4000\n",
       "    })\n",
       "    test: Dataset({\n",
       "        features: ['translation'],\n",
       "        num_rows: 1000\n",
       "    })\n",
       "})"
      ]
     },
     "execution_count": 3,
     "metadata": {},
     "output_type": "execute_result"
    }
   ],
   "source": [
    "# Anyway, the fr_en dataset has over 4 million examples, so we'll just take 5,000 for now\n",
    "sm_fr_en = load_dataset('wmt14', 'fr-en', split='train[:5000]')\n",
    "\n",
    "# but this only takes the training data, so we need to split it up again:\n",
    "sm_fr_en = sm_fr_en.train_test_split(test_size=0.2)\n",
    "sm_fr_en"
   ]
  },
  {
   "cell_type": "code",
   "execution_count": 4,
   "id": "74289f2a-174e-4381-b691-a065f61f4d44",
   "metadata": {},
   "outputs": [],
   "source": [
    "# setting up tokenization and pre-processing\n",
    "tokenizer = AutoTokenizer.from_pretrained(model_checkpoint, truncation=True) # init tokenizer (we could have used T5 or T5Fast as well)\n",
    "\n",
    "# the rest of this block is the only thing we need to change to be able to do multi-lingual translation\n",
    "prefix = \"\" # T5 models somewhat optionally take a prefix to tell what language to-from \n",
    "max_input_length = 128\n",
    "max_target_length = 128\n",
    "source_lang = 'fr'\n",
    "target_lang = 'en'\n",
    "\n",
    "# tokenization\n",
    "def preprocess_fn(examples):\n",
    "    inputs = [prefix + ex[source_lang] for ex in examples['translation']]\n",
    "    targets = [ex[target_lang] for ex in examples['translation']]\n",
    "    model_inputs = tokenizer(inputs, max_length=max_input_length, truncation=True)\n",
    "    \n",
    "    with tokenizer.as_target_tokenizer():\n",
    "        labels = tokenizer(targets, max_length=max_target_length, truncation=True)\n",
    "        model_inputs['labels'] = labels['input_ids']\n",
    "        \n",
    "    return model_inputs"
   ]
  },
  {
   "cell_type": "code",
   "execution_count": 5,
   "id": "4c52a0cb-a656-43bf-ad3f-1a4a86dd5985",
   "metadata": {},
   "outputs": [
    {
     "data": {
      "application/vnd.jupyter.widget-view+json": {
       "model_id": "3fceba35398741568077af796b280783",
       "version_major": 2,
       "version_minor": 0
      },
      "text/plain": [
       "  0%|          | 0/4 [00:00<?, ?ba/s]"
      ]
     },
     "metadata": {},
     "output_type": "display_data"
    },
    {
     "data": {
      "application/vnd.jupyter.widget-view+json": {
       "model_id": "910167a0d0024d83b5563584814d8807",
       "version_major": 2,
       "version_minor": 0
      },
      "text/plain": [
       "  0%|          | 0/1 [00:00<?, ?ba/s]"
      ]
     },
     "metadata": {},
     "output_type": "display_data"
    }
   ],
   "source": [
    "# using the tokenizer, and instantiating our model\n",
    "sm_tokenized = sm_fr_en.map(preprocess_fn, batched=True)\n",
    "model = T5ForConditionalGeneration.from_pretrained(model_checkpoint)"
   ]
  },
  {
   "cell_type": "code",
   "execution_count": 6,
   "id": "aff7c5b8-4847-4add-9ce5-2268901d8e68",
   "metadata": {},
   "outputs": [],
   "source": [
    "# params for training\n",
    "batch_size=8\n",
    "learning_rate=1e-4\n",
    "weight_decay=0.001\n",
    "num_train_epochs=8\n",
    "optimizer=torch.optim.AdamW(model.parameters(), lr=learning_rate, weight_decay=weight_decay)\n",
    "\n",
    "# collator and dataloaders\n",
    "data_collator = DataCollatorForSeq2Seq(tokenizer, model=model)\n",
    "\n",
    "sm = sm_tokenized.remove_columns(['translation']) # we need to get rid of any cols the model can't work with\n",
    "train_dataloader = torch.utils.data.DataLoader(sm['train'], shuffle=True, batch_size=batch_size, collate_fn=data_collator)\n",
    "# valid_dataloader = torch.utils.data.DataLoader(sm['validation'],batch_size=batch_size, collate_fn=data_collator)\n",
    "test_dataloader = torch.utils.data.DataLoader(sm['test'], batch_size=batch_size, collate_fn=data_collator)"
   ]
  },
  {
   "cell_type": "code",
   "execution_count": 7,
   "id": "80e87d19-cc57-43fd-9bca-eaba6c151b3b",
   "metadata": {},
   "outputs": [],
   "source": [
    "# one last helper fn to deal with postprocessing\n",
    "\n",
    "def postprocess_text(preds, labels):\n",
    "    preds = [pred.strip() for pred in preds]\n",
    "    labels = [[label.strip()] for label in labels]\n",
    "    return preds, labels"
   ]
  },
  {
   "cell_type": "code",
   "execution_count": null,
   "id": "53c96a6d-a2dd-48d8-b26c-5b6282272da0",
   "metadata": {},
   "outputs": [],
   "source": [
    "# ok, training time! \n",
    "# this model works fine, on a sample of 50k, with the params as i have them\n",
    "# we have a BLEU of about 14, which is a pretty great start\n",
    "\n",
    "device = torch.device('cuda') if torch.cuda.is_available() else torch.device('cpu')\n",
    "metric = load_metric('sacrebleu')\n",
    "\n",
    "project_name = \"\"\n",
    "eval_every = 500\n",
    "\n",
    "run = wandb.init(project=f\"{project_name}\")\n",
    "\n",
    "model.to(device)\n",
    "global_step=0\n",
    "\n",
    "for epoch in range(num_train_epochs):\n",
    "    model.train()\n",
    "    for batch in train_dataloader:\n",
    "        labels = batch['labels'].to(device)\n",
    "        input_ids = batch['input_ids'].to(device)\n",
    "        attention_mask = batch['attention_mask'].to(device)\n",
    "        \n",
    "        # make sure padding tokens aren't counted in loss fn\n",
    "        labels[labels == tokenizer.pad_token_id] = -100 \n",
    "        \n",
    "        output = model(input_ids=input_ids, labels=labels, attention_mask=attention_mask)\n",
    "        loss = output['loss'] # since we're working with a pretrained model, we can just grab the loss directly \n",
    "        \n",
    "        optimizer.zero_grad()\n",
    "        loss.backward()\n",
    "        torch.nn.utils.clip_grad_norm(model.parameters(), max_norm=1)\n",
    "        optimizer.step()\n",
    "        global_step += 1\n",
    "        \n",
    "        wandb.log(\n",
    "            {\n",
    "                'train_loss' : loss,\n",
    "                'epoch' : epoch,\n",
    "            },\n",
    "            step=global_step\n",
    "        )\n",
    "        \n",
    "        if global_step % 10 == 0: # log every 10 steps, feel free to change\n",
    "            # accuracy doesn't matter much for our model, but feel free to look anyway\n",
    "            # or delete this part, also fine\n",
    "            preds = output['logits'].argmax(-1)\n",
    "            label_nonpad_mask = labels != tokenizer.pad_token_id\n",
    "            num_words_in_batch = label_nonpad_mask.sum().item()\n",
    "            acc = (preds == labels).masked_select(label_nonpad_mask).sum().item() / num_words_in_batch\n",
    "            \n",
    "            wandb.log({\n",
    "                'train_batch_word_accuracy' : acc\n",
    "            },\n",
    "               step=global_step,\n",
    "            )\n",
    "            \n",
    "        if global_step % eval_every == 0: # you can change this at the top of the block\n",
    "            n_generated_tokens = 0\n",
    "            model.eval()\n",
    "            \n",
    "            for batch in test_dataloader:\n",
    "                labels = batch['labels'].to(device)\n",
    "                input_ids = batch['input_ids'].to(device)\n",
    "                attention_mask = batch['attention_mask'].to(device)\n",
    "                \n",
    "                generated_ids = model.generate(input_ids=input_ids, num_beams=5, attention_mask=attention_mask)\n",
    "                \n",
    "                labels = torch.where(labels != -100, labels, tokenizer.pad_token_id) # fix =100 labels for tokenizer\n",
    "\n",
    "\n",
    "                decoded_preds = [tokenizer.decode(g, skip_special_tokens=True, clean_up_tokenization_spaces=True) for g in generated_ids]\n",
    "                decoded_labels = [tokenizer.decode(l, skip_special_tokens=True, clean_up_tokenization_space=True) for l in labels]\n",
    "                \n",
    "                for pred in decoded_preds:\n",
    "                    n_generated_tokens += len(tokenizer(pred)['input_ids'])\n",
    "                    \n",
    "                decoded_preds, decoded_labels = postprocess_text(decoded_preds, decoded_labels)\n",
    "                \n",
    "                metric.add_batch(predictions=decoded_preds, references=decoded_labels)\n",
    "                \n",
    "            model.train()\n",
    "            eval_metric = metric.compute()\n",
    "            wandb.log({\n",
    "                'bleu' : eval_metric['score'],\n",
    "                'gen_len' : n_generated_tokens / len(test_dataloader.dataset),\n",
    "            },\n",
    "                step=global_step,\n",
    "            )\n"
   ]
  },
  {
   "cell_type": "code",
   "execution_count": null,
   "id": "3855049d-0ec6-47cf-8a8a-a9125d1d5f62",
   "metadata": {},
   "outputs": [],
   "source": []
  }
 ],
 "metadata": {
  "kernelspec": {
   "display_name": "Python 3 (ipykernel)",
   "language": "python",
   "name": "python3"
  },
  "language_info": {
   "codemirror_mode": {
    "name": "ipython",
    "version": 3
   },
   "file_extension": ".py",
   "mimetype": "text/x-python",
   "name": "python",
   "nbconvert_exporter": "python",
   "pygments_lexer": "ipython3",
   "version": "3.8.12"
  }
 },
 "nbformat": 4,
 "nbformat_minor": 5
}
